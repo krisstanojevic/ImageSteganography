{
 "cells": [
  {
   "cell_type": "markdown",
   "metadata": {},
   "source": [
    "# Steganografija slike\n",
    "\n",
    "Način na koji se može sakriti tajna poruka tokom slanja tako da ne privlači pažnju napadača jeste steganografija. U kriptografiji poruke su šifrovane te često zainteresuju napadače koji pokušavaju da razbiju šifru, dok u steganografiji sakrivena poruka se ne zaključava vidljivim ključem koji se potom odvojeno šalje, pa ne postoji objekat privlačenja pogleda napadača.\n",
    "<hr>\n",
    "<i>Steganografija</i> je metoda sakrivanja tajne poruke u slici, zvuku, videu itd koji će biti prenosni mediji. Kako tekstualna poruka, tako se i slika može sakriti u drugoj slici i slično. Takvom steganografijom ćemo se baviti u nastavku."
   ]
  },
  {
   "cell_type": "markdown",
   "metadata": {},
   "source": [
    "Tehnika sakrivanja poruke/slike u slici-nosaču jeste ubacivanje značajnih bitova (bitova velike težine) tajne poruke/slike na mestima najnižih bitova slike-nosača, jer na taj način slika-nosač neće biti vidljivo promenjena i tajna poruka/slika neće biti vidljiva. Bitno je izabrati dobru sliku-nosač koja je puna detalja, jer male promene u pikselima koji predstavljaju oštre ivice mogu biti vidljive. Dakle, ono što će biti promenjeno jeste intenzitet RGB boja u nekim pikselima. Procenat originalne slike koji možemo menjati je mali, 10-ak procenata da promena slike ne bi bila vidljiva. "
   ]
  },
  {
   "cell_type": "markdown",
   "metadata": {},
   "source": [
    "<hr>\n",
    "Prikazivanje svakog piksela je moguće čuvanjem vrednosti boja u njemu. Koristićemo RGB model boja. Svaki piksel će imati tri 8-bitne vrednosti za svaku od boja.\n",
    "\n",
    "<img src=\"img\\rgb.png\">\n",
    "<hr>\n",
    "<img src=\"img\\tajno.png\" width=\"500\">\n",
    "\n",
    "Kako bismo dobili male promene slike-nosača menjaćemo vrednosti njenih najnižih bitova sa bitovima najveće težine poruke ili slike koju želimo da sakrijemo. "
   ]
  },
  {
   "cell_type": "markdown",
   "metadata": {},
   "source": [
    "Svaki piksel će biti predstavljen trojkama 8-bitnih brojeva, svaki će predstavljati jačinu jedne od RGB boja. Vrednosti idu od 0 do 255.\n",
    "<img src=\"img\\rgb_bit.png\" width=\"500\">"
   ]
  },
  {
   "cell_type": "markdown",
   "metadata": {},
   "source": [
    "Za početak kreirajmo funkcije za sakrivanje slike unutar druge slike. Naravno, odvojene su i neke propratne funkcije radi lakseg razumevanja koda."
   ]
  },
  {
   "cell_type": "code",
   "execution_count": 1,
   "metadata": {},
   "outputs": [],
   "source": [
    "%config IPCompleter.greedy=True"
   ]
  },
  {
   "cell_type": "code",
   "execution_count": 12,
   "metadata": {
    "scrolled": true
   },
   "outputs": [],
   "source": [
    "from PIL import Image\n",
    "import numpy as np\n",
    "\n",
    "def copy_image(image):\n",
    "    return Image.new(image.mode, image.size, (0,0,0))\n",
    "\n",
    "def get_size(image):\n",
    "    return (image.size[0], image.size[1])\n",
    "\n",
    "\n",
    "class Steganography_image:\n",
    "    #From 3 given numbers this returns rgb values in binary representation\n",
    "    get_binary_rgb = lambda r, g, b: (format(r, \"b\").zfill(8), format(g, \"b\").zfill(8), (format(b, \"b\").zfill(8)))\n",
    "  \n",
    "    @staticmethod\n",
    "    def get_rgb(image_rgb):\n",
    "         return Steganography_image.get_binary_rgb(image_rgb[0], image_rgb[1], image_rgb[2])\n",
    "\n",
    "    \n",
    "    #Method that returns new image that is a result of merging secret image \n",
    "    #into holder image that will be send and visible\n",
    "    @staticmethod\n",
    "    def encrypt(image_holder, image_secret):\n",
    "        #If image size (with and hight given as a tuple) is bigger then holder image, than we want to exit\n",
    "        h_weight, h_hight = get_size(image_holder)\n",
    "        s_weight, s_hight = get_size(image_secret)\n",
    "        if s_weight > h_weight or s_weight > h_hight:\n",
    "            raise ValueError('Secret image is bigger than holder image!')\n",
    "        \n",
    "        #We can see RGB values for all pixcels with command: #print np.asarray(image_holder)\n",
    "        \n",
    "        #Pixel maps for both images\n",
    "        image_holder_pixels = image_holder.load()\n",
    "        image_secret_pixels = image_secret.load()\n",
    "       \n",
    "        #Output image will be the same as holder, and then we are going to change it's pixels\n",
    "        #importing part of pixels of secret image\n",
    "        output_image = copy_image(image_holder)\n",
    "        output_image_pixels = output_image.load()\n",
    "        \n",
    "        for i in range(h_weight):\n",
    "            for j in range(h_hight): \n",
    "                rgb_binary_holder = Steganography_image.get_rgb(image_holder_pixels[i,j])\n",
    "                 \n",
    "                #Check if the secret image is finished because it is smaller than holder image         \n",
    "                if(s_weight > i and s_hight > j):\n",
    "                    rgb_binary_secret = Steganography_image.get_rgb(image_secret_pixels[i,j])\n",
    "                else:\n",
    "                    rgb_binary_secret = Steganography_image.get_rgb((0, 0, 0))\n",
    "                \n",
    "                #Now we have rgb binary values for holder and secret image\n",
    "                #Then we want to place secret image into holder one into last 4 bits\n",
    "                r = rgb_binary_holder[0][:4] + rgb_binary_secret[0][:4]\n",
    "                g = rgb_binary_holder[1][:4] + rgb_binary_secret[1][:4]\n",
    "                b = rgb_binary_holder[2][:4] + rgb_binary_secret[2][:4]\n",
    "                output_image_pixels[i, j] = (int(r, 2), int(g, 2), int(b, 2))\n",
    "        \n",
    "        image_holder.close()\n",
    "        image_secret.close()        \n",
    "        return output_image\n",
    "        \n",
    "    \n",
    "    #Method that returns secret image that is hidden in visible recived image\n",
    "    @staticmethod\n",
    "    def decrypt(image):\n",
    "        #Pixel map for image\n",
    "        image_pixels = image.load()\n",
    "      \n",
    "        weight, hight = get_size(image)\n",
    "        size = image.size\n",
    "        \n",
    "        #Output image will be the same as holder, and then we are going to change it's pixels\n",
    "        #importing part of pixels of secret image only. After that we will crop extra pixels\n",
    "        output_image = copy_image(image)  #Image.new(image.mode, size, (0, 0, 0))\n",
    "        output_image_pixels = output_image.load()\n",
    "        \n",
    "        #Variables for the size of secret image\n",
    "        k = 0\n",
    "        l = 0\n",
    "\n",
    "       #Making rgb map and checking if all pixels are zero then there is no hidden picture\n",
    "        for i in range(weight):\n",
    "            for j in range(hight): \n",
    "                rgb_binary = Steganography_image.get_rgb(image_pixels[i,j])\n",
    "                \n",
    "                #Now we have rgb binary values\n",
    "                #Then we want to get secret image from holder image by taking last 4 bits\n",
    "                r = rgb_binary[0][4:] + '0000'\n",
    "                g = rgb_binary[1][4:] + '0000'\n",
    "                b = rgb_binary[2][4:] + '0000'\n",
    "                output_image_pixels[i, j] = (int(r, 2), int(g, 2), int(b, 2))\n",
    "                \n",
    "                #If all parts are zero, then there is no secret picture merged on that pixel.\n",
    "                #We are seting size of secret picture, last pixel that is not zero is end of the secret image\n",
    "                #so we are saving that pixel indexes in k and l.\n",
    "                if output_image_pixels[i, j] == (0, 0, 0):\n",
    "                    pass\n",
    "                else:\n",
    "                    k = i\n",
    "                    l = j\n",
    "                    \n",
    "        output_weight = k + 1\n",
    "        output_hight = l + 1\n",
    "        #Crop picture from left upper corner to size that we found (size of secret image)\n",
    "        output_image = output_image.crop((0, 0, output_weight, output_hight))               \n",
    "        \n",
    "        image.close()\n",
    "        return output_image"
   ]
  },
  {
   "cell_type": "markdown",
   "metadata": {},
   "source": [
    "Sada možemo da isprobamo funkcije. Najpre uzećemo kao sliku koju ćemo slati (koja će biti vidljiva svima) <b>New_york</b> koja ima dosta detalja na sebi te promene koje algoritam zahteva neće biti vidljive! Sliku koju želimo da sakrijemo od posmatrača i da je krišom pošaljemo je <b>secret_photo</b>. Ona će biti sakrivena unutar prve slike. \n",
    "\n",
    "Pokrenimo prvi deo pripremanja slike za slanje na sledeći način:"
   ]
  },
  {
   "cell_type": "code",
   "execution_count": 5,
   "metadata": {
    "scrolled": true
   },
   "outputs": [],
   "source": [
    "encrypt = Steganography_image.encrypt(Image.open('New_york.png'), Image.open('secret_photo.png'))       \n",
    "encrypt.save('output.png')"
   ]
  },
  {
   "cell_type": "markdown",
   "metadata": {},
   "source": [
    "Tako smo kreirali sliku <b>output</b> koja predstavlja sliku u slici, spremnu za sigurno slanje primaocu.\n",
    "\n",
    "Na prvi pogled slike su identične i izgledaće ovako:"
   ]
  },
  {
   "cell_type": "markdown",
   "metadata": {},
   "source": [
    "<tr>\n",
    "<td> <img src=\"img\\New_york_before.png\"> </td>\n",
    "<td> <img src=\"img\\New_york_after.png\"> </td>\n",
    "</tr>\n",
    "<tr>\n",
    "<td style=\"text-align:center\"> Originalna slika </td>\n",
    "<td style=\"text-align:center\"> Slika u koju je sakrivena slika koju želimo da pošaljemo </td>\n",
    "</tr>"
   ]
  },
  {
   "cell_type": "markdown",
   "metadata": {},
   "source": [
    "Sliku koju dobijemo možemo bez problema da pošaljemo, napadač neće moći da vidi da je ta slika samo posrednik!\n",
    "\n",
    "Kada slika stigne primaocu, on je može drugom funkcijom raspakovati tako da zapravo dobije sliku koju mu je pošiljaoc namenio, i to pokretanjem sledećeg koda:"
   ]
  },
  {
   "cell_type": "code",
   "execution_count": 10,
   "metadata": {},
   "outputs": [
    {
     "name": "stdout",
     "output_type": "stream",
     "text": [
      "3904 2602\n",
      "959 639\n"
     ]
    }
   ],
   "source": [
    "decrypt = Steganography_image.decrypt(Image.open('output.png'))       \n",
    "decrypt.save('output_secret.png')"
   ]
  },
  {
   "cell_type": "markdown",
   "metadata": {},
   "source": [
    "Dobijamo sliku <b>output</b> koja predstavlja sakrivenu sliku koju je pošiljaoc želeo tajno da dostavi primaocu.\n",
    "\n",
    "Opet je na prvi pogled slika identična, a kada se malo bolje zagledamo vidimo sliku lošijeg kvaliteta. Primaoc će i sa tim minusom u ovom algoritmu videti dosta dobro poruku pošiljaoca.\n",
    "\n",
    "Razliku vidimo ispod:"
   ]
  },
  {
   "cell_type": "markdown",
   "metadata": {},
   "source": [
    "<tr>\n",
    "<td> <img src=\"img\\secret_photo_before.png\"> </td>\n",
    "<td> <img src=\"img\\secret_photo_after.png\"> </td>\n",
    "</tr>\n",
    "<tr>\n",
    "<td style=\"text-align:center\"> Originalna slika koju pošiljaoc želi da pošalje </td>\n",
    "<td style=\"text-align:center\"> Slika nakon što je primaoc raspakuje </td>\n",
    "</tr>"
   ]
  },
  {
   "cell_type": "markdown",
   "metadata": {},
   "source": [
    "<hr>\n",
    "Sledeće što želimo da omogućimo jeste slanje tajnog teskta. To ćemo uraditi na sličan način, sakrivajući tekst unutar slike koju šaljemo."
   ]
  },
  {
   "cell_type": "code",
   "execution_count": 13,
   "metadata": {},
   "outputs": [],
   "source": [
    "#ONLY FOR ASCII CHARATERS\n",
    "class Steganography_text:\n",
    "    #Returns binary representation from text\n",
    "    get_binary_text = lambda num : (format(ord(num), '08b'))\n",
    "    \n",
    "    #Returns ascii from binary representation\n",
    "    def get_ascii(binary):\n",
    "        number = int(binary, 2)\n",
    "        return number.to_bytes((number.bit_length() + 7) // 8, 'big').decode()\n",
    "    \n",
    "    #Method that returns image with not visible hidden message\n",
    "    @staticmethod\n",
    "    def encrypt(image_name, message):\n",
    "        image = Image.open(image_name + '.png')\n",
    "        image_pixels = image.load()\n",
    "        \n",
    "        #Generating binary representation of whole text\n",
    "        message_bin = []\n",
    "        message_len = len(message)\n",
    "        for i in range(message_len):\n",
    "            message_bin.append(Steganography_text.get_binary_text(message[i]))\n",
    "        \n",
    "        #Output image with secret text is the same as forwarded image at first\n",
    "        output_image = copy_image(image)\n",
    "        output_image_pixels = output_image.load()\n",
    "        weight, hight = get_size(output_image)\n",
    "        \n",
    "        #k is counter for number of letters in message\n",
    "        k = 0\n",
    "        for i in range(weight):\n",
    "            for j in range(hight):\n",
    "                rgb_binary = Steganography_image.get_rgb(image_pixels[i,j])\n",
    "                \n",
    "                #If message is not finished take binary representation of letter, \n",
    "                #else zero binary pixel.\n",
    "                #Representation of the text made like this is getting into image\n",
    "                if(message_len > 0):\n",
    "                    rgb_binary_secret =  message_bin[k]\n",
    "                else:\n",
    "                    rgb_binary_secret = '00000000'\n",
    "                \n",
    "                #In one pixel of image we are putting one letter in parts (3, 3 and 2 bits) \n",
    "                #at the end of each rgb part of the image, creating new rgb presentation\n",
    "                r = rgb_binary[0][:5] + rgb_binary_secret[:3]\n",
    "                g = rgb_binary[1][:5] + rgb_binary_secret[3:6]\n",
    "                b = rgb_binary[2][:6] + rgb_binary_secret[6:8]\n",
    "                output_image_pixels[i, j] = (int(r, 2), int(g, 2), int(b, 2))\n",
    "                    \n",
    "                k += 1\n",
    "                message_len -= 1\n",
    "                    \n",
    "                output_image_pixels[i, j] = (int(r, 2), int(g, 2), int(b, 2)) \n",
    "                    \n",
    "        return output_image\n",
    "    \n",
    "    \n",
    "    #Method that returns secret message hidden into image\n",
    "    @staticmethod\n",
    "    def decrypt(image):\n",
    "        #Pixel map for image\n",
    "        image = Image.open(image + '.png')\n",
    "        image_pixels = image.load()\n",
    "      \n",
    "        weight, hight = get_size(image)\n",
    "        size = image.size\n",
    "        \n",
    "        #Output is the message\n",
    "        message = \"\"\n",
    "          \n",
    "        #If, after manipulating, pixel is zero then there is no secret message into that pixel\n",
    "        for i in range(weight):\n",
    "            for j in range(hight): \n",
    "                rgb_binary = Steganography_image.get_rgb(image_pixels[i,j])\n",
    "                \n",
    "                #Now we want to take part of the pixels that will maybe be letter from message\n",
    "                m = rgb_binary[0][5:] + rgb_binary[1][5:] + rgb_binary[2][6:]\n",
    "                \n",
    "                #If new pixel is zero, then there is no secret message\n",
    "                if m != '00000000':\n",
    "                     message += Steganography_text.get_ascii(m)\n",
    "                    \n",
    "        return message"
   ]
  },
  {
   "cell_type": "markdown",
   "metadata": {},
   "source": [
    "Isprobajmo kod tako što ćemo unutar slike <b>City</b> da sakrijemo poruku koja glasi <b>\"Veoma vazno! Vandredno stanje je gotovo!\"</b> kako bismo novu sliku sa porukom poslali nekome tako da poruka ne bude viljiva.\n",
    "\n",
    "\n",
    "Pokretanjem sledećeg koda dobijamo sliku kao rezultat, spremnu za slanje:"
   ]
  },
  {
   "cell_type": "code",
   "execution_count": 10,
   "metadata": {
    "scrolled": true
   },
   "outputs": [],
   "source": [
    "message = \"Veoma vazno! Vandredno stanje je gotovo!\"\n",
    "encrypt = Steganography_text.encrypt('City', message)\n",
    "encrypt.save(\"City_message.png\")"
   ]
  },
  {
   "cell_type": "markdown",
   "metadata": {},
   "source": [
    "Uporedjivanjem originalne i dobijene slike ne možemo uočiti nikakvu razliku:"
   ]
  },
  {
   "cell_type": "markdown",
   "metadata": {},
   "source": [
    "<tr>\n",
    "<td> <img src=\"img\\City_before.png\"> </td>\n",
    "<td> <img src=\"img\\City_after.png\"> </td>\n",
    "</tr>\n",
    "<tr>\n",
    "<td style=\"text-align:center\"> Originalna slika koju pošiljaoc želi da pošalje </td>\n",
    "<td style=\"text-align:center\"> Slika koja sadrži tajnu poruku, spremna za slanje </td>\n",
    "</tr>"
   ]
  },
  {
   "cell_type": "markdown",
   "metadata": {},
   "source": [
    "Nakon što sliku dobije primaoc, raspakivanjem može da pročita skriveni tekst jednostavnom komandom:"
   ]
  },
  {
   "cell_type": "code",
   "execution_count": 11,
   "metadata": {},
   "outputs": [
    {
     "data": {
      "text/plain": [
       "'Veoma vazno! Vandredno stanje je gotovo!'"
      ]
     },
     "execution_count": 11,
     "metadata": {},
     "output_type": "execute_result"
    }
   ],
   "source": [
    "Steganography_text.decrypt('City_message')"
   ]
  },
  {
   "cell_type": "markdown",
   "metadata": {},
   "source": [
    "Kao rezultat dobili smo poruku koja je upravo i očekivana: <b>\"Veoma vazno! Vandredno stanje je gotovo!\"</b> \n",
    "</hr>\n",
    "Na ovaj način možemo da šaljemo poruke i slike unutar neke druge slike koja će to prkriti. Način na koji se kod može razviti je promenljive prirode, može varirati u zavisnosti od ideje i time napadaču otežati posao u kreiranju koda koji razbija poslatu sliku kako bi dobio tajnu poruku. Naravno, napadaču najpre mora pasti na pamet da je poslata slika zapravo osnova za sakrivanje neke tajne poruke."
   ]
  }
 ],
 "metadata": {
  "kernelspec": {
   "display_name": "Python 3",
   "language": "python",
   "name": "python3"
  },
  "language_info": {
   "codemirror_mode": {
    "name": "ipython",
    "version": 3
   },
   "file_extension": ".py",
   "mimetype": "text/x-python",
   "name": "python",
   "nbconvert_exporter": "python",
   "pygments_lexer": "ipython3",
   "version": "3.8.3"
  }
 },
 "nbformat": 4,
 "nbformat_minor": 2
}
